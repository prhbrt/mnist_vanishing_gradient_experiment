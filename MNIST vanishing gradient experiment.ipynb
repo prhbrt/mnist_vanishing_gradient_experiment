{
 "cells": [
  {
   "cell_type": "markdown",
   "metadata": {},
   "source": [
    "# MNIST vanishing gradients experiment\n",
    "\n",
    "This experiment tries to check the effects of different weight initializations for the MNIST handwritten digit classification problem. The idea is to create a convolutional neural network, and verify the learnning curves of different initial weight standard deviations.\n",
    "\n",
    "The expectation was that, as I understand from the [Xavier, Glorot 2010] paper, weight intialization should be important to combat vanishing gradients. However, the experiment shows that this is not the case. Initial weights between $0.0001$ and $1$ standard deviation seem to provide reasonable ($>0.9$ accuracy) results within just $2$ minutes of calculation on a NVidia 960M (laptop-)GPU.\n",
    "\n",
    "[Xavier, Glorot 2010] http://proceedings.mlr.press/v9/glorot10a/glorot10a.pdf\n",
    "\n",
    "My motivation for this experiment was that the Tensorflow-tutorial on MNIST didn't mention anything about the standard deveation of weight initialization, nor does it use Batch normalization. Hence I was wondering where the $0.1$-values they used came from.\n",
    "\n",
    "The only reason for this weight-robust performance I can think off at the moment is due to the relative shallow network used."
   ]
  },
  {
   "cell_type": "code",
   "execution_count": null,
   "metadata": {
    "collapsed": true
   },
   "outputs": [],
   "source": [
    "import time\n",
    "from tensorflow.examples.tutorials.mnist import input_data\n",
    "import tensorflow as tf\n",
    "from tensorflow.python.client import device_lib\n",
    "\n",
    "import numpy\n",
    "import matplotlib.pyplot as pyplot\n",
    "%matplotlib inline"
   ]
  },
  {
   "cell_type": "markdown",
   "metadata": {},
   "source": [
    "# Load the MNIST data"
   ]
  },
  {
   "cell_type": "code",
   "execution_count": null,
   "metadata": {},
   "outputs": [],
   "source": [
    "mnist = input_data.read_data_sets('MNIST_data', one_hot=True)"
   ]
  },
  {
   "cell_type": "markdown",
   "metadata": {},
   "source": [
    "# Create weight variables\n",
    "(with a certain stddev)"
   ]
  },
  {
   "cell_type": "code",
   "execution_count": null,
   "metadata": {
    "collapsed": true
   },
   "outputs": [],
   "source": [
    "def weight_variable(shape, w=0.1):\n",
    "  initial = tf.truncated_normal(shape, stddev=w)\n",
    "  return tf.Variable(initial)\n",
    "\n",
    "def bias_variable(shape, w=0.1):\n",
    "  initial = tf.constant(w, shape=shape)\n",
    "  return tf.Variable(initial)"
   ]
  },
  {
   "cell_type": "markdown",
   "metadata": {},
   "source": [
    "# Building the network"
   ]
  },
  {
   "cell_type": "code",
   "execution_count": null,
   "metadata": {
    "collapsed": true
   },
   "outputs": [],
   "source": [
    "def conv2d(x, W):\n",
    "  return tf.nn.conv2d(x, W, strides=[1, 1, 1, 1], padding='SAME')\n",
    "\n",
    "def max_pool_2x2(x):\n",
    "  return tf.nn.max_pool(x, ksize=[1, 2, 2, 1],\n",
    "                        strides=[1, 2, 2, 1], padding='SAME')"
   ]
  },
  {
   "cell_type": "code",
   "execution_count": null,
   "metadata": {
    "collapsed": true
   },
   "outputs": [],
   "source": [
    "    def build_network_for_weight_initialization(w):\n",
    "        \"\"\" Builds a CNN for the MNIST-problem:\n",
    "         - 32 5x5 kernels convolutional layer with bias and ReLU activations\n",
    "         - 2x2 maxpooling\n",
    "         - 64 5x5 kernels convolutional layer with bias and ReLU activations\n",
    "         - 2x2 maxpooling\n",
    "         - Fully connected layer with 1024 nodes + bias and ReLU activations\n",
    "         - dropout\n",
    "         - Fully connected softmax layer for classification (of 10 classes)\n",
    "\n",
    "         Returns the x, and y placeholders for the train data, the output\n",
    "         of the network and the dropbout placeholder as a tuple of 4 elements.\n",
    "        \"\"\"\n",
    "        x = tf.placeholder(tf.float32, shape=[None, 784])\n",
    "        y_ = tf.placeholder(tf.float32, shape=[None, 10])\n",
    "\n",
    "        x_image = tf.reshape(x, [-1,28,28,1])\n",
    "        W_conv1 = weight_variable([5, 5, 1, 32], w)\n",
    "        b_conv1 = bias_variable([32], w)\n",
    "\n",
    "        h_conv1 = tf.nn.relu(conv2d(x_image, W_conv1) + b_conv1)\n",
    "        h_pool1 = max_pool_2x2(h_conv1)\n",
    "        W_conv2 = weight_variable([5, 5, 32, 64], w)\n",
    "        b_conv2 = bias_variable([64], w)\n",
    "\n",
    "        h_conv2 = tf.nn.relu(conv2d(h_pool1, W_conv2) + b_conv2)\n",
    "        h_pool2 = max_pool_2x2(h_conv2)\n",
    "\n",
    "        W_fc1 = weight_variable([7 * 7 * 64, 1024], w)\n",
    "        b_fc1 = bias_variable([1024], w)\n",
    "\n",
    "        h_pool2_flat = tf.reshape(h_pool2, [-1, 7*7*64])\n",
    "        h_fc1 = tf.nn.relu(tf.matmul(h_pool2_flat, W_fc1) + b_fc1)\n",
    "\n",
    "        keep_prob = tf.placeholder(tf.float32)\n",
    "        h_fc1_drop = tf.nn.dropout(h_fc1, keep_prob)\n",
    "\n",
    "        W_fc2 = weight_variable([1024, 10], w)\n",
    "        b_fc2 = bias_variable([10], w)\n",
    "\n",
    "        y_conv = tf.matmul(h_fc1_drop, W_fc2) + b_fc2\n",
    "\n",
    "        return (x, y_, y_conv, keep_prob)"
   ]
  },
  {
   "cell_type": "markdown",
   "metadata": {},
   "source": [
    "# Experiment setup\n",
    "\n",
    "Train network 3 times for several weights between $0.0001$ and $1.0$ and plot the learning curve"
   ]
  },
  {
   "cell_type": "code",
   "execution_count": null,
   "metadata": {
    "collapsed": true
   },
   "outputs": [],
   "source": [
    "def evaluate_for_weight_init(w):\n",
    "    \"\"\" Returns an accuracy learning curve for a network trained on\n",
    "    10000 batches of 50 samples. The learning curve has one item\n",
    "    every 100 batches.\"\"\"\n",
    "    with tf.Session() as sess:\n",
    "        x, y_, y_conv, keep_prob = build_network_for_weight_initialization(w)\n",
    "        cross_entropy = tf.reduce_mean(\n",
    "            tf.nn.softmax_cross_entropy_with_logits(labels=y_, logits=y_conv))\n",
    "        train_step = tf.train.AdamOptimizer(1e-4).minimize(cross_entropy)\n",
    "        correct_prediction = tf.equal(tf.argmax(y_conv,1), tf.argmax(y_,1))\n",
    "        accuracy = tf.reduce_mean(tf.cast(correct_prediction, tf.float32))\n",
    "        sess.run(tf.global_variables_initializer())\n",
    "        lr = []\n",
    "        for _ in range(100):\n",
    "            for i in range(100):\n",
    "              batch = mnist.train.next_batch(50)\n",
    "              train_step.run(feed_dict={x: batch[0], y_: batch[1], keep_prob: 0.5})\n",
    "            assert mnist.test.images.shape[0] == 10000\n",
    "            # This way the accuracy-evaluation fits in my 2GB laptop GPU.\n",
    "            a = sum(\n",
    "                accuracy.eval(feed_dict={\n",
    "                    x: mnist.test.images[2000*i:2000*(i+1)],\n",
    "                    y_: mnist.test.labels[2000*i:2000*(i+1)],\n",
    "                    keep_prob: 1.0})\n",
    "                for i in range(5)) / 5\n",
    "            lr.append(a)\n",
    "    return lr"
   ]
  },
  {
   "cell_type": "code",
   "execution_count": null,
   "metadata": {},
   "outputs": [],
   "source": [
    "ws = [0.0001, 0.0003, 0.001, 0.003, 0.01, 0.03, 0.1, 0.3, 1.0]\n",
    "# accuracies = [] # Uncomment to reset the experiment"
   ]
  },
  {
   "cell_type": "code",
   "execution_count": null,
   "metadata": {},
   "outputs": [],
   "source": [
    "# Run this cell multiple (3) times to get more 'statistical significance'\n",
    "accuracies.append([])\n",
    "for w in ws:\n",
    "    accuracies[-1].append(evaluate_for_weight_init(w))"
   ]
  },
  {
   "cell_type": "code",
   "execution_count": null,
   "metadata": {
    "collapsed": true
   },
   "outputs": [],
   "source": [
    "# Run this cell instead of the previous two to run the experiment in one go\n",
    "ws = [0.0001, 0.0003, 0.001, 0.003, 0.01, 0.03, 0.1, 0.3, 1.0]\n",
    "accuracies = [\n",
    "    [evaluate_for_weight_init(w) for w in ws]\n",
    "    for _ in range(3)\n",
    "]"
   ]
  },
  {
   "cell_type": "markdown",
   "metadata": {},
   "source": [
    "# Results\n",
    "\n",
    "The plot shows that $>0.1$ standard degrades performance significantly, but still the $0.94$ accuracy is OK and not a sign of vanishing or exploding gradient. The "
   ]
  },
  {
   "cell_type": "code",
   "execution_count": 1,
   "metadata": {
    "scrolled": true
   },
   "outputs": [
    {
     "ename": "NameError",
     "evalue": "name 'pyplot' is not defined",
     "output_type": "error",
     "traceback": [
      "\u001b[0;31m---------------------------------------------------------------------------\u001b[0m",
      "\u001b[0;31mNameError\u001b[0m                                 Traceback (most recent call last)",
      "\u001b[0;32m<ipython-input-1-695b03a6d036>\u001b[0m in \u001b[0;36m<module>\u001b[0;34m()\u001b[0m\n\u001b[0;32m----> 1\u001b[0;31m \u001b[0mpyplot\u001b[0m\u001b[0;34m.\u001b[0m\u001b[0mplot\u001b[0m\u001b[0;34m(\u001b[0m\u001b[0mnumpy\u001b[0m\u001b[0;34m.\u001b[0m\u001b[0marray\u001b[0m\u001b[0;34m(\u001b[0m\u001b[0maccuracies\u001b[0m\u001b[0;34m)\u001b[0m\u001b[0;34m.\u001b[0m\u001b[0mmean\u001b[0m\u001b[0;34m(\u001b[0m\u001b[0;36m0\u001b[0m\u001b[0;34m)\u001b[0m\u001b[0;34m.\u001b[0m\u001b[0mT\u001b[0m\u001b[0;34m)\u001b[0m\u001b[0;34m\u001b[0m\u001b[0m\n\u001b[0m\u001b[1;32m      2\u001b[0m \u001b[0mpyplot\u001b[0m\u001b[0;34m.\u001b[0m\u001b[0mylim\u001b[0m\u001b[0;34m(\u001b[0m\u001b[0;36m0.9\u001b[0m\u001b[0;34m,\u001b[0m \u001b[0;36m1\u001b[0m\u001b[0;34m)\u001b[0m\u001b[0;34m\u001b[0m\u001b[0m\n\u001b[1;32m      3\u001b[0m \u001b[0mpyplot\u001b[0m\u001b[0;34m.\u001b[0m\u001b[0mxlim\u001b[0m\u001b[0;34m(\u001b[0m\u001b[0;36m0\u001b[0m\u001b[0;34m,\u001b[0m\u001b[0;36m140\u001b[0m\u001b[0;34m)\u001b[0m\u001b[0;34m\u001b[0m\u001b[0m\n\u001b[1;32m      4\u001b[0m \u001b[0mpyplot\u001b[0m\u001b[0;34m.\u001b[0m\u001b[0mxlabel\u001b[0m\u001b[0;34m(\u001b[0m\u001b[0;34m'batch (x 100)'\u001b[0m\u001b[0;34m)\u001b[0m\u001b[0;34m\u001b[0m\u001b[0m\n\u001b[1;32m      5\u001b[0m \u001b[0mpyplot\u001b[0m\u001b[0;34m.\u001b[0m\u001b[0mylabel\u001b[0m\u001b[0;34m(\u001b[0m\u001b[0;34m'test accuracy'\u001b[0m\u001b[0;34m)\u001b[0m\u001b[0;34m\u001b[0m\u001b[0m\n",
      "\u001b[0;31mNameError\u001b[0m: name 'pyplot' is not defined"
     ]
    }
   ],
   "source": [
    "pyplot.plot(numpy.array(accuracies).mean(0).T)\n",
    "pyplot.ylim(0.9, 1)\n",
    "pyplot.xlim(0,140)\n",
    "pyplot.xlabel('batch (x 100)')\n",
    "pyplot.ylabel('test accuracy')\n",
    "pyplot.legend(ws)\n",
    "None"
   ]
  }
 ],
 "metadata": {
  "kernelspec": {
   "display_name": "Python 2",
   "language": "python",
   "name": "python2"
  },
  "language_info": {
   "codemirror_mode": {
    "name": "ipython",
    "version": 2
   },
   "file_extension": ".py",
   "mimetype": "text/x-python",
   "name": "python",
   "nbconvert_exporter": "python",
   "pygments_lexer": "ipython2",
   "version": "2.7.12"
  }
 },
 "nbformat": 4,
 "nbformat_minor": 2
}
